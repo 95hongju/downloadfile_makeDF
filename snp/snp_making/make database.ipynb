{
 "cells": [
  {
   "cell_type": "code",
   "execution_count": 2,
   "metadata": {},
   "outputs": [],
   "source": [
    "import requests\n",
    "from bs4 import BeautifulSoup\n",
    "import sys\n",
    "from itertools import zip_longest\n",
    "from collections import OrderedDict\n",
    "import pandas as pd"
   ]
  },
  {
   "cell_type": "markdown",
   "metadata": {},
   "source": [
    "## step 1. read file(rs IDs)"
   ]
  },
  {
   "cell_type": "code",
   "execution_count": 14,
   "metadata": {},
   "outputs": [],
   "source": [
    "file='testrs.txt'"
   ]
  },
  {
   "cell_type": "code",
   "execution_count": 18,
   "metadata": {},
   "outputs": [],
   "source": [
    "gsa=pd.read_csv(file)"
   ]
  },
  {
   "cell_type": "code",
   "execution_count": 19,
   "metadata": {},
   "outputs": [
    {
     "data": {
      "text/html": [
       "<div>\n",
       "<style scoped>\n",
       "    .dataframe tbody tr th:only-of-type {\n",
       "        vertical-align: middle;\n",
       "    }\n",
       "\n",
       "    .dataframe tbody tr th {\n",
       "        vertical-align: top;\n",
       "    }\n",
       "\n",
       "    .dataframe thead th {\n",
       "        text-align: right;\n",
       "    }\n",
       "</style>\n",
       "<table border=\"1\" class=\"dataframe\">\n",
       "  <thead>\n",
       "    <tr style=\"text-align: right;\">\n",
       "      <th></th>\n",
       "      <th>rsID</th>\n",
       "    </tr>\n",
       "  </thead>\n",
       "  <tbody>\n",
       "    <tr>\n",
       "      <th>0</th>\n",
       "      <td>rs1799971</td>\n",
       "    </tr>\n",
       "    <tr>\n",
       "      <th>1</th>\n",
       "      <td>rs1815739</td>\n",
       "    </tr>\n",
       "    <tr>\n",
       "      <th>2</th>\n",
       "      <td>rs1234</td>\n",
       "    </tr>\n",
       "    <tr>\n",
       "      <th>3</th>\n",
       "      <td>rs91215</td>\n",
       "    </tr>\n",
       "    <tr>\n",
       "      <th>4</th>\n",
       "      <td>rs1333049</td>\n",
       "    </tr>\n",
       "  </tbody>\n",
       "</table>\n",
       "</div>"
      ],
      "text/plain": [
       "        rsID\n",
       "0  rs1799971\n",
       "1  rs1815739\n",
       "2     rs1234\n",
       "3    rs91215\n",
       "4  rs1333049"
      ]
     },
     "execution_count": 19,
     "metadata": {},
     "output_type": "execute_result"
    }
   ],
   "source": [
    "gsa.head()"
   ]
  },
  {
   "cell_type": "markdown",
   "metadata": {},
   "source": [
    "## step 2. make rawHTML column with rsID, function"
   ]
  },
  {
   "cell_type": "code",
   "execution_count": 20,
   "metadata": {},
   "outputs": [],
   "source": [
    "def gethtml(TITLE):\n",
    "    S = requests.Session()\n",
    "    \n",
    "    URL = \"https://bots.snpedia.com/api.php\"\n",
    "\n",
    "\n",
    "    PARAMS = {\n",
    "    'action': \"parse\",\n",
    "    'page': TITLE,\n",
    "    'section': 0,\n",
    "    'format': \"json\"\n",
    "    }\n",
    "    print(TITLE)\n",
    "    try:\n",
    "        res = S.get(url=URL, params=PARAMS)\n",
    "        data = res.json()\n",
    "        wikitext = data['parse']['text']['*']\n",
    "        lines = wikitext.split('|-')\n",
    "        result = ''.join(lines)\n",
    "        return result\n",
    "    except (KeyError):\n",
    "        print(\"CHECK THE rsID : no data\")\n",
    "        return ''\n",
    "    except Exception as e:\n",
    "        print(\"unexpected error, \", e)\n",
    "        return ''"
   ]
  },
  {
   "cell_type": "markdown",
   "metadata": {},
   "source": [
    "### apply function"
   ]
  },
  {
   "cell_type": "code",
   "execution_count": 21,
   "metadata": {},
   "outputs": [
    {
     "name": "stdout",
     "output_type": "stream",
     "text": [
      "rs1799971\n",
      "rs1815739\n",
      "rs1234\n",
      "rs91215\n",
      "CHECK THE rsID : no data\n",
      "rs1333049\n",
      "rs97846\n",
      "CHECK THE rsID : no data\n",
      "rs9939609\n"
     ]
    }
   ],
   "source": [
    "gsa['rawHTML']=gsa['rsID'].apply(gethtml)"
   ]
  },
  {
   "cell_type": "markdown",
   "metadata": {},
   "source": [
    "### result"
   ]
  },
  {
   "cell_type": "code",
   "execution_count": 22,
   "metadata": {},
   "outputs": [
    {
     "data": {
      "text/plain": [
       "7"
      ]
     },
     "execution_count": 22,
     "metadata": {},
     "output_type": "execute_result"
    }
   ],
   "source": [
    "gsa['rsID'].size"
   ]
  },
  {
   "cell_type": "code",
   "execution_count": 23,
   "metadata": {},
   "outputs": [],
   "source": [
    "gsa = gsa.drop_duplicates(subset='rsID')"
   ]
  },
  {
   "cell_type": "markdown",
   "metadata": {},
   "source": [
    "## step 3. save it as csv file"
   ]
  },
  {
   "cell_type": "code",
   "execution_count": 24,
   "metadata": {},
   "outputs": [],
   "source": [
    "gsa.to_csv(file+'_DB.csv',index=False,sep='\\t')"
   ]
  },
  {
   "cell_type": "markdown",
   "metadata": {},
   "source": [
    "## step 4. read csv file "
   ]
  },
  {
   "cell_type": "code",
   "execution_count": 25,
   "metadata": {},
   "outputs": [],
   "source": [
    "readfile= pd.read_csv('test_DB.csv',sep='\\t')"
   ]
  },
  {
   "cell_type": "code",
   "execution_count": 28,
   "metadata": {},
   "outputs": [],
   "source": [
    "readfile = readfile.fillna('')"
   ]
  },
  {
   "cell_type": "code",
   "execution_count": 29,
   "metadata": {},
   "outputs": [
    {
     "data": {
      "text/html": [
       "<div>\n",
       "<style scoped>\n",
       "    .dataframe tbody tr th:only-of-type {\n",
       "        vertical-align: middle;\n",
       "    }\n",
       "\n",
       "    .dataframe tbody tr th {\n",
       "        vertical-align: top;\n",
       "    }\n",
       "\n",
       "    .dataframe thead th {\n",
       "        text-align: right;\n",
       "    }\n",
       "</style>\n",
       "<table border=\"1\" class=\"dataframe\">\n",
       "  <thead>\n",
       "    <tr style=\"text-align: right;\">\n",
       "      <th></th>\n",
       "      <th>rsID</th>\n",
       "      <th>rawHTML</th>\n",
       "    </tr>\n",
       "  </thead>\n",
       "  <tbody>\n",
       "    <tr>\n",
       "      <th>0</th>\n",
       "      <td>rs1799971</td>\n",
       "      <td>&lt;div class=\"mw-parser-output\"&gt;&lt;p&gt;&lt;span&gt;&lt;/span&gt;...</td>\n",
       "    </tr>\n",
       "    <tr>\n",
       "      <th>1</th>\n",
       "      <td>rs1815739</td>\n",
       "      <td>&lt;div class=\"mw-parser-output\"&gt;&lt;p&gt;&lt;span&gt;&lt;/span&gt;...</td>\n",
       "    </tr>\n",
       "    <tr>\n",
       "      <th>2</th>\n",
       "      <td>rs1234</td>\n",
       "      <td>&lt;div class=\"mw-parser-output\"&gt;&lt;p&gt;&lt;span&gt;&lt;/span&gt;...</td>\n",
       "    </tr>\n",
       "    <tr>\n",
       "      <th>3</th>\n",
       "      <td>rs91215</td>\n",
       "      <td></td>\n",
       "    </tr>\n",
       "    <tr>\n",
       "      <th>4</th>\n",
       "      <td>rs1333049</td>\n",
       "      <td>&lt;div class=\"mw-parser-output\"&gt;&lt;p&gt;&lt;span&gt;&lt;/span&gt;...</td>\n",
       "    </tr>\n",
       "    <tr>\n",
       "      <th>5</th>\n",
       "      <td>rs97846</td>\n",
       "      <td></td>\n",
       "    </tr>\n",
       "    <tr>\n",
       "      <th>6</th>\n",
       "      <td>rs9939609</td>\n",
       "      <td>&lt;div class=\"mw-parser-output\"&gt;&lt;p&gt;&lt;span&gt;&lt;/span&gt;...</td>\n",
       "    </tr>\n",
       "  </tbody>\n",
       "</table>\n",
       "</div>"
      ],
      "text/plain": [
       "        rsID                                            rawHTML\n",
       "0  rs1799971  <div class=\"mw-parser-output\"><p><span></span>...\n",
       "1  rs1815739  <div class=\"mw-parser-output\"><p><span></span>...\n",
       "2     rs1234  <div class=\"mw-parser-output\"><p><span></span>...\n",
       "3    rs91215                                                   \n",
       "4  rs1333049  <div class=\"mw-parser-output\"><p><span></span>...\n",
       "5    rs97846                                                   \n",
       "6  rs9939609  <div class=\"mw-parser-output\"><p><span></span>..."
      ]
     },
     "execution_count": 29,
     "metadata": {},
     "output_type": "execute_result"
    }
   ],
   "source": [
    "readfile"
   ]
  },
  {
   "cell_type": "markdown",
   "metadata": {},
   "source": [
    "### used functions"
   ]
  },
  {
   "cell_type": "code",
   "execution_count": 30,
   "metadata": {},
   "outputs": [],
   "source": [
    "\n",
    "def make_report(rsID, rawHTML):\n",
    "\n",
    "    if len(rawHTML)==0:\n",
    "        data_gene = 'N/A'\n",
    "        data_table = OrderedDict()\n",
    "        data_desc = ['N/A']\n",
    "\n",
    "    else:\n",
    "        print(rsID,'---')\n",
    "        print(type(rawHTML))\n",
    "        #replace some texts to find each data what i want\n",
    "        rsID_getTable =rawHTML.replace('sortable smwtable','getdata1')\n",
    "        rsID_getGENE =rsID_getTable.replace('<table border=\"0\">\\n<tbody><tr><td width=\"90\">Gene</td>','<table border=\"0\" class=\"getdata2\">\\n<tbody><tr><td width=\"90\">Gene</td>')\n",
    "\n",
    "        #makeSoup with replaced rawHTML\n",
    "        soup = BeautifulSoup(rsID_getGENE, 'html.parser')\n",
    "\n",
    "        #step 1, find gene name\n",
    "        #-------------------------------------------\n",
    "        try:\n",
    "            data_gene = soup.find(class_='getdata2').a['title']\n",
    "        except:\n",
    "            data_gene = 'N/A'\n",
    "        #step 2, find table as OrderedDict\n",
    "        #-------------------------------------------\n",
    "        try:\n",
    "            table_html = soup.find(class_=\"getdata1\")\n",
    "            table_text = table_html.get_text()\n",
    "            table_text = table_text.split('\\n')\n",
    "            #cut front & last space\n",
    "            table_text = table_text[1:-1]\n",
    "            column = table_text[:7]\n",
    "            data = table_text[7:]\n",
    "            grouped_data = list(zip_longest(*(iter(data),)*7))\n",
    "            data_table = []\n",
    "            for i in range(len(grouped_data)):\n",
    "                data_table.append(OrderedDict((k,v) for k, v in zip(column,grouped_data[i])))\n",
    "        except:\n",
    "            data_table = OrderedDict()\n",
    "        #step 3, find table as df\n",
    "        #-------------------------------------------\n",
    "        try:\n",
    "            ptags = soup.find_all(\"p\")[1:6]\n",
    "            data_desc = []\n",
    "            for ele in ptags:\n",
    "                data_desc.append(ele.get_text())\n",
    "        except:\n",
    "            data_desc = ['N/A']\n",
    "    return rsID, data_gene, data_table, data_desc\n",
    "    \n",
    "def make_orderedDicted(rs,ge,tb,ds):\n",
    "    result = OrderedDict([('rsID',rs),('GENE',ge),('TABLE',tb),('DESC',ds)])\n",
    "    return result\n"
   ]
  },
  {
   "cell_type": "markdown",
   "metadata": {},
   "source": [
    "## step 5. make report"
   ]
  },
  {
   "cell_type": "code",
   "execution_count": 31,
   "metadata": {},
   "outputs": [
    {
     "name": "stdout",
     "output_type": "stream",
     "text": [
      "rs1799971 ---\n",
      "<class 'str'>\n",
      "rsID - rs1799971 done\n",
      "------------------------\n",
      "rs1815739 ---\n",
      "<class 'str'>\n",
      "rsID - rs1815739 done\n",
      "------------------------\n",
      "rs1234 ---\n",
      "<class 'str'>\n",
      "rsID - rs1234 done\n",
      "------------------------\n",
      "rsID - rs91215 done\n",
      "------------------------\n",
      "rs1333049 ---\n",
      "<class 'str'>\n",
      "rsID - rs1333049 done\n",
      "------------------------\n",
      "rsID - rs97846 done\n",
      "------------------------\n",
      "rs9939609 ---\n",
      "<class 'str'>\n",
      "rsID - rs9939609 done\n",
      "------------------------\n"
     ]
    }
   ],
   "source": [
    "tmp=[]\n",
    "for one,two in zip(readfile['rsID'],readfile['rawHTML']):\n",
    "\n",
    "    rs,ge,tb,ds = make_report(one, two)\n",
    "    report = make_orderedDicted(rs,ge,tb,ds)\n",
    "\n",
    "    print('rsID - '+one +' done' )\n",
    "\n",
    "    print('------------------------')\n",
    "    tmp.append(report) "
   ]
  },
  {
   "cell_type": "markdown",
   "metadata": {},
   "source": [
    "## result"
   ]
  },
  {
   "cell_type": "code",
   "execution_count": 59,
   "metadata": {},
   "outputs": [
    {
     "data": {
      "text/plain": [
       "[OrderedDict([('rsID', 'rs1333049'),\n",
       "              ('GENE', 'N/A'),\n",
       "              ('TABLE',\n",
       "               [OrderedDict([('', ''),\n",
       "                             ('Geno', '(C;C)'),\n",
       "                             ('Mag', '4'),\n",
       "                             ('Summary',\n",
       "                              '1.9x increased risk for coronary artery disease')]),\n",
       "                OrderedDict([('', ''),\n",
       "                             ('Geno', '(C;G)'),\n",
       "                             ('Mag', '3'),\n",
       "                             ('Summary', '1.5x increased risk for CAD')]),\n",
       "                OrderedDict([('', ''),\n",
       "                             ('Geno', '(G;G)'),\n",
       "                             ('Mag', '0'),\n",
       "                             ('Summary', 'normal')])]),\n",
       "              ('DESC',\n",
       "               ['This SNP has been recognized by the Coriell Personalized Medicine Collaborative ICOB.\\nAdditional information is available here\\n',\n",
       "                'rs1333049 has been reported in a large study to be associated with heart disease, in particular, coronary artery disease.\\n',\n",
       "                'The risk allele (oriented to the dbSNP entry) is most likely (C); the odds ratio associated with heterozygotes is 1.47 (CI 1.27-1.70), and for homozygotes, 1.9 (CI 1.61-2.24). [PMID 17554300]\\n',\n",
       "                'This SNP has also been reported to have the highest association of any SNP studied in a subsequent experiment conducted with the resources of the German MI [Myocardial Infarction] Family Study. [PMID 17634449, PMID 18362232]\\n',\n",
       "                'The initial studies were conducted on Caucasian populations. A subsequent study of Japanese and Korean patients has also found rs1333049 to be associated with increased coronary artery disease risk, with roughly similar odds ratios.[PMID 18264662] \\n'])]),\n",
       " OrderedDict([('rsID', 'rs1815739'),\n",
       "              ('GENE', 'ACTN3'),\n",
       "              ('TABLE',\n",
       "               [OrderedDict([('', ''),\n",
       "                             ('Geno', '(C;C)'),\n",
       "                             ('Mag', '2.2'),\n",
       "                             ('Summary',\n",
       "                              'Better performing muscles. Likely sprinter.')]),\n",
       "                OrderedDict([('', ''),\n",
       "                             ('Geno', '(C;T)'),\n",
       "                             ('Mag', '2.1'),\n",
       "                             ('Summary',\n",
       "                              'Mix of muscle types. Likely sprinter.')]),\n",
       "                OrderedDict([('', ''),\n",
       "                             ('Geno', '(T;T)'),\n",
       "                             ('Mag', '2.2'),\n",
       "                             ('Summary',\n",
       "                              'Impaired muscle performance. Likely endurance athlete.')])]),\n",
       "              ('DESC',\n",
       "               ['This SNP, in the ACTN3 gene, encodes a premature stop codon in a muscle protein called alpha-actinin-3. The polymorphism alters position 577 of the alpha-actinin-3 protein. In publications the (C;C) genotype is often called RR, whereas the (T;T) genotype is often called XX. \\n',\n",
       "                '\\nAccording to [PMID 18043716] (T;T) is under-represented in elite strength athletes, consistent with previous reports indicating that alpha-actinin-3 deficiency appears to impair muscle performance. However in 2016  [PMID 26824906] failed to replicate casting some doubt. \\n',\n",
       "                'The most common nucleotide at this position, (C), encodes an arginine (amino acid code R), the alternative T allele encodes a stop codon (X). Hence, the SNP is referred to as R577X, with homozygotes being either RR or XX and heterozygotes being RX. XX individuals completely lack the expression of alpha-actinin-3.\\n',\n",
       "                'One of the earliest report studying a relatively small number of Australian elite (i.e. ~Olympic) athletes found that, at least in females, the R allele (ie rs1815739(C)) is associated with sprinters, while the X allele (rs1815739(T)) is associated with endurance athletes. No female or Olympic-level sprinters were XX homozygotes (rs1815739(T;T)). The association tended the same way but was statistically weaker in males. [PMID 12879365]. There have been several subsequent studies, but few with large sample sizes and thus few with much statistical power. An example of a typical study: no increase in endurance ability was associated with the X allele in elite male cyclists. [PMID 16612741]\\n',\n",
       "                'An extensive blog post from one of the original authors of this research.\\n'])]),\n",
       " OrderedDict([('rsID', 'rs99939609'),\n",
       "              ('GENE', 'N/A'),\n",
       "              ('TABLE', OrderedDict()),\n",
       "              ('DESC', ['N/A'])])]"
      ]
     },
     "execution_count": 59,
     "metadata": {},
     "output_type": "execute_result"
    }
   ],
   "source": [
    "tmp"
   ]
  },
  {
   "cell_type": "code",
   "execution_count": null,
   "metadata": {},
   "outputs": [],
   "source": []
  }
 ],
 "metadata": {
  "kernelspec": {
   "display_name": "Python 3",
   "language": "python",
   "name": "python3"
  },
  "language_info": {
   "codemirror_mode": {
    "name": "ipython",
    "version": 3
   },
   "file_extension": ".py",
   "mimetype": "text/x-python",
   "name": "python",
   "nbconvert_exporter": "python",
   "pygments_lexer": "ipython3",
   "version": "3.7.0"
  }
 },
 "nbformat": 4,
 "nbformat_minor": 2
}
