{
 "cells": [
  {
   "cell_type": "code",
   "execution_count": 21,
   "metadata": {},
   "outputs": [],
   "source": [
    "import csv\n",
    "import requests\n",
    "from bs4 import BeautifulSoup\n",
    "from collections import OrderedDict"
   ]
  },
  {
   "cell_type": "code",
   "execution_count": 22,
   "metadata": {},
   "outputs": [],
   "source": [
    "def gethtml(TITLE):\n",
    "    S = requests.Session()\n",
    "\n",
    "    URL = \"https://bots.snpedia.com/api.php\"\n",
    "\n",
    "\n",
    "    PARAMS = {\n",
    "    'action': \"parse\",\n",
    "    'page': TITLE,\n",
    "    'section': 0,\n",
    "    'format': \"json\"\n",
    "    }\n",
    "    try:\n",
    "        res = S.get(url=URL, params=PARAMS)\n",
    "        data = res.json()\n",
    "        wikitext = data['parse']['text']['*']\n",
    "        lines = wikitext.split('|-')\n",
    "        return lines\n",
    "\n",
    "    except Exception as e:\n",
    "        print(\"unexpected error, \", e)\n",
    "        return []"
   ]
  },
  {
   "cell_type": "code",
   "execution_count": 23,
   "metadata": {},
   "outputs": [],
   "source": [
    "rsnum='rs3131972'\n",
    "rsid=gethtml(rsnum)"
   ]
  },
  {
   "cell_type": "code",
   "execution_count": 24,
   "metadata": {},
   "outputs": [
    {
     "data": {
      "text/plain": [
       "['<div class=\"mw-parser-output\"><p><span></span></p><div class=\"aside-right col-sm-4\"><table border=\"0\">\\n<tbody><tr><td width=\"90\"><a href=\"/index.php/Orientation\" title=\"Orientation\">Orientation</a></td><td>minus</td></tr>\\n</tbody></table><table border=\"0\">\\n<tbody><tr><td width=\"90\"><a href=\"/index.php/StabilizedOrientation\" title=\"StabilizedOrientation\">Stabilized</a></td><td>minus</td></tr>\\n</tbody></table><table width=\"100%\" border=\"1\" style=\"border-collapse: collapse;\">\\n<tbody><tr><td>Make <a href=\"/index.php/Special:FormEdit/Genotype/rs3131972(C;C)\" title=\"Special:FormEdit/Genotype/rs3131972(C;C)\">rs3131972(C;C)</a></td></tr>\\n<tr><td>Make <a href=\"/index.php/Special:FormEdit/Genotype/rs3131972(C;T)\" title=\"Special:FormEdit/Genotype/rs3131972(C;T)\">rs3131972(C;T)</a></td></tr>\\n<tr><td>Make <a href=\"/index.php/Special:FormEdit/Genotype/rs3131972(T;T)\" title=\"Special:FormEdit/Genotype/rs3131972(T;T)\">rs3131972(T;T)</a></td></tr>\\n</tbody></table><table border=\"0\">\\n<tbody><tr><td width=\"90\">Reference</td><td><a href=\"/index.php/GRCh38.p2\" class=\"mw-redirect\" title=\"GRCh38.p2\">GRCh38.p2</a> 38.2/144</td></tr>\\n</tbody></table><table border=\"0\">\\n<tbody><tr><td width=\"90\">Chromosome</td><td>1</td></tr>\\n</tbody></table><table border=\"0\">\\n<tbody><tr><td width=\"90\">Position</td><td>817341</td></tr>\\n</tbody></table><table border=\"0\">\\n<tbody><tr><td width=\"90\">Gene</td><td><a href=\"/index.php/Special:FormEdit/Gene/FAM87B\" class=\"new\" target=\"_self\">FAM87B</a>\\n</td></tr>\\n</tbody></table><table width=\"100%\">\\n<tbody><tr><td width=\"90\">is a</td><td><a href=\"/index.php/Snp\" class=\"mw-redirect\" title=\"Snp\">snp</a></td></tr>\\n<tr><td>is</td><td><a href=\"/index.php/Special:WhatLinksHere/Rs3131972\" title=\"Special:WhatLinksHere/Rs3131972\"> mentioned by</a></td></tr>\\n<tr><td>dbSNP</td><td><a rel=\"nofollow\" class=\"external text\" href=\"https://www.ncbi.nlm.nih.gov/snp/rs3131972\">rs3131972</a></td></tr>\\n<tr><td>dbSNP (classic)</td><td><a rel=\"nofollow\" class=\"external text\" href=\"https://www.ncbi.nlm.nih.gov/projects/SNP/snp_ref.cgi?do_not_redirect&amp;rs=rs3131972\">rs3131972</a></td></tr>\\n<tr><td>ClinGen</td><td><a rel=\"nofollow\" class=\"external text\" href=\"http://reg.clinicalgenome.org/redmine/projects/registry/genboree_registry/alleles?dbSNP.rs=3131972\">rs3131972</a></td></tr>\\n<tr><td>ebi</td><td><a rel=\"nofollow\" class=\"external text\" href=\"https://www.ebi.ac.uk/gwas/search?query=rs3131972\">rs3131972</a></td></tr>\\n<tr><td>HLI</td><td><a rel=\"nofollow\" class=\"external text\" href=\"https://search.hli.io/?q=rs3131972\">rs3131972</a></td></tr>\\n<tr><td>Exac</td><td><a rel=\"nofollow\" class=\"external text\" href=\"http://exac.broadinstitute.org/awesome?query=rs3131972\">rs3131972</a></td></tr>\\n<tr><td>Gnomad</td><td><a rel=\"nofollow\" class=\"external text\" href=\"http://gnomad.broadinstitute.org/awesome?query=rs3131972\">rs3131972</a></td></tr>\\n<tr><td>Varsome</td><td><a rel=\"nofollow\" class=\"external text\" href=\"https://varsome.com/variant/hg19/rs3131972\">rs3131972</a></td></tr>\\n<tr><td>LitVar</td><td><a rel=\"nofollow\" class=\"external text\" href=\"https://www.ncbi.nlm.nih.gov/CBBresearch/Lu/Demo/LitVar/#!?query=rs3131972\">rs3131972</a></td></tr>\\n<tr><td>Map</td><td><a rel=\"nofollow\" class=\"external text\" href=\"http://popgen.uchicago.edu/ggv/?search=rs3131972\">rs3131972</a></td></tr>\\n<tr><td>PheGenI</td><td><a rel=\"nofollow\" class=\"external text\" href=\"http://www.ncbi.nlm.nih.gov/gap/PheGenI?tab=2&amp;rs=3131972\">rs3131972</a></td></tr>\\n<tr><td>Biobank</td><td><a rel=\"nofollow\" class=\"external text\" href=\"https://biobankengine.stanford.edu/awesome?query=rs3131972\">rs3131972</a></td></tr>\\n<tr><td><a href=\"/index.php/1000_genomes\" title=\"1000 genomes\">1000 genomes</a></td><td><a rel=\"nofollow\" class=\"external text\" href=\"http://browser.1000genomes.org/Homo_sapiens/Variation/Population?v=rs3131972;vdb=variation\">rs3131972</a></td></tr>\\n<tr><td>hgdp</td><td><a rel=\"nofollow\" class=\"external text\" href=\"http://hgdp.uchicago.edu/cgi-bin/gbrowse/HGDP/?name=SNP%3Ars3131972\">rs3131972</a></td></tr>\\n<tr><td>ensembl</td><td><a rel=\"nofollow\" class=\"external text\" href=\"http://www.ensembl.org/Homo_sapiens/snpview?source=dbSNP;snp=rs3131972\">rs3131972</a></td></tr>\\n<tr><td>geneview</td><td><a rel=\"nofollow\" class=\"external text\" href=\"http://bc3.informatik.hu-berlin.de/search?gv_search_query=RS:3131972\">rs3131972</a></td></tr>\\n<tr><td>scholar</td><td><a rel=\"nofollow\" class=\"external text\" href=\"http://scholar.google.com/scholar?q=rs3131972&amp;as_subj=bio\">rs3131972</a></td></tr>\\n<tr><td>google</td><td><a rel=\"nofollow\" class=\"external text\" href=\"http://www.google.com/search?hl=en&amp;q=rs3131972\">rs3131972</a></td></tr>\\n<tr><td>pharmgkb</td><td><a rel=\"nofollow\" class=\"external text\" href=\"http://www.pharmgkb.org/rsid/rs3131972\">rs3131972</a></td></tr>\\n<tr><td>gwascentral</td><td><a rel=\"nofollow\" class=\"external text\" href=\"http://www.gwascentral.org/marker/dbSNP:rs3131972\">rs3131972</a></td></tr>\\n<tr><td>openSNP</td><td><a rel=\"nofollow\" class=\"external text\" href=\"https://opensnp.org/snps/rs3131972#users\">rs3131972</a></td></tr>\\n<tr><td><a href=\"/index.php/23andMe_(help)\" title=\"23andMe (help)\">23andMe</a></td><td><a rel=\"nofollow\" class=\"external text\" href=\"https://www.23andme.com/you/explorer/snp/?snp_name=rs3131972\">rs3131972</a></td></tr>\\n<tr><td>23andMe all</td><td><a rel=\"nofollow\" class=\"external text\" href=\"https://www.23andme.com/you/search/?isearch=rs3131972\">rs3131972</a></td></tr>\\n<tr><td>SNPshot</td><td><a rel=\"nofollow\" class=\"external text\" href=\"http://bioai4core.fulton.asu.edu/snpshot/FactSheet?id=rs3131972&amp;type=RSNO\">rs3131972</a></td></tr>\\n<tr><td>SNPdbe</td><td><a rel=\"nofollow\" class=\"external text\" href=\"http://www.rostlab.org/services/snpdbe/dosearch.php?id=mutation&amp;val=rs3131972\">rs3131972</a></td></tr>\\n<tr><td>MSV3d</td><td><a rel=\"nofollow\" class=\"external text\" href=\"http://decrypthon.igbmc.fr/msv3d/cgi-bin/humsavar?rsid=rs3131972\">rs3131972</a></td></tr>\\n<tr><td>GWAS Ctlg</td><td><a rel=\"nofollow\" class=\"external text\" href=\"https://www.ebi.ac.uk/gwas/search?query=rs3131972\">rs3131972</a></td></tr>\\n</tbody></table>\\n<table border=\"0\">\\n<tbody><tr><td width=\"90\"><a href=\"/index.php/Max_Magnitude\" title=\"Max Magnitude\">Max Magnitude</a></td><td>\\n</td></tr>\\n</tbody></table>\\n</div><div style=\"clear:right; float:right; margin-left:1em; margin-bottom:1em; width:25em; text-align: left; font-size: 90%; border:thin solid;\"><table><tbody><tr><td width=\"25\"><a href=\"/index.php/Help_(population_diversity)\" title=\"Help (population diversity)\">?</a></td><th><span style=\"font-size:1.25em\">  <span style=\"color:#CD853F\">(C;C)</span>    <span style=\"color:#20D020\">(C;T)</span>    <span style=\"color:#0000FF\">(T;T)</span></span> </th><th>28</th></tr>\\n<tr><td colspan=\"3\"><img src=\"https://chart.apis.google.com/chart?cht=bhs&amp;chd=t:68.1,54.7,50.4,4.1,14.0,54.7,65.1,59.4,10.0,56.9,11.5,71.6,43.375|30.1,43.1,44.2,32.9,50.9,43.1,30.3,37.6,49.1,34.5,55.1,26.5,39.783333333333|1.8,2.2,5.3,63.0,35.1,2.2,4.6,3.0,40.9,8.6,33.3,2.0,16.833333333333&amp;chs=275x228&amp;chbh=8,5&amp;chxl=0:|1:|AVG|TSI|MKK|MEX|LWK|GIH|CHD|CHB|ASW|YRI|JPT|HCB|CEU||&amp;chxt=x,y&amp;chco=CD853F,30FF30,0000FF,FF00FF&amp;chls=1,1,0|1,1,0|1,1,0|1,1,0\" /></td></tr></tbody></table></div>\\n\\n<!-- \\nNewPP limit report\\nCached time: 20190122225732\\nCache expiry: 86400\\nDynamic content: false\\n[SMW] In‐text annotation parser time: 0.026 seconds\\nCPU time usage: 0.121 seconds\\nReal time usage: 0.181 seconds\\nPreprocessor visited node count: 634/1000000\\nPreprocessor generated node count: 0/1000000\\nPost‐expand include size: 6956/2097152 bytes\\nTemplate argument size: 1174/2097152 bytes\\nHighest expansion depth: 5/40\\nExpensive parser function count: 3/2000\\nUnstrip recursion depth: 0/20\\nUnstrip post‐expand size: 516/5000000 bytes\\n-->\\n<!--\\nTransclusion expansion time report (%,ms,calls,template)\\n100.00%  116.643      1 -total\\n 91.45%  106.667      1 Template:Rsnum\\n  5.69%    6.636      1 Template:Population_diversity\\n  5.11%    5.962      1 Template:Lowercase_title\\n  2.39%    2.791      1 Template:Is_a\\n  2.03%    2.373      8 Template:On_chip\\n  1.91%    2.230      1 Template:Snps_on_chromosome\\n  1.86%    2.170      2 Template:Has\\n-->\\n</div>']"
      ]
     },
     "execution_count": 24,
     "metadata": {},
     "output_type": "execute_result"
    }
   ],
   "source": [
    "rsid"
   ]
  },
  {
   "cell_type": "markdown",
   "metadata": {},
   "source": [
    "## get  data"
   ]
  },
  {
   "cell_type": "code",
   "execution_count": 4,
   "metadata": {},
   "outputs": [],
   "source": [
    "rsid_1 =rsid[0].replace('sortable smwtable','getdata1')"
   ]
  },
  {
   "cell_type": "code",
   "execution_count": 5,
   "metadata": {},
   "outputs": [],
   "source": [
    "rsid_2 =rsid_1.replace('<td width=\"90\">Gene</td>','<td width=\"90\" class=\"getdata2\">Gene</td>')"
   ]
  },
  {
   "cell_type": "code",
   "execution_count": 6,
   "metadata": {},
   "outputs": [],
   "source": [
    "soup=BeautifulSoup(rsid_2,'html.parser')"
   ]
  },
  {
   "cell_type": "markdown",
   "metadata": {},
   "source": [
    "## -------------------------------------------------------replace done"
   ]
  },
  {
   "cell_type": "code",
   "execution_count": 7,
   "metadata": {},
   "outputs": [
    {
     "name": "stdout",
     "output_type": "stream",
     "text": [
      "<table class=\"getdata1\" width=\"100%\">\n",
      "<tbody><tr>\n",
      "<th>Geno\r\n",
      "</th>\n",
      "<th><a href=\"/index.php/Magnitude\" title=\"Magnitude\">Mag</a>\n",
      "</th>\n",
      "<th>Summary\r\n",
      "</th></tr>\n",
      "<tr>\n",
      "<td><a href=\"/index.php/Rs1799971(A;A)\" title=\"Rs1799971(A;A)\">(A;A)</a>\n",
      "</td>\n",
      "<td style=\"border-bottom-style: groove; background: #80ff80\">0\r\n",
      "</td>\n",
      "<td style=\"border-bottom-style: groove\">normal\r\n",
      "</td></tr>\n",
      "<tr>\n",
      "<td><a href=\"/index.php/Rs1799971(A;G)\" title=\"Rs1799971(A;G)\">(A;G)</a>\n",
      "</td>\n",
      "<td style=\"border-bottom-style: groove; background: #ff8080\">2.5\r\n",
      "</td>\n",
      "<td style=\"border-bottom-style: groove\">stronger cravings for alcohol. if alcoholic, naltrexone treatment 2x more successful\r\n",
      "</td></tr>\n",
      "<tr>\n",
      "<td><a href=\"/index.php/Rs1799971(G;G)\" title=\"Rs1799971(G;G)\">(G;G)</a>\n",
      "</td>\n",
      "<td style=\"border-bottom-style: groove; background: #ff8080\">2.6\r\n",
      "</td>\n",
      "<td style=\"border-bottom-style: groove\">more pain\r\n",
      "</td></tr>\n",
      "</tbody></table>\n"
     ]
    }
   ],
   "source": [
    "data_1=soup.find(class_='getdata1')\n",
    "print(data_1)"
   ]
  },
  {
   "cell_type": "code",
   "execution_count": 8,
   "metadata": {},
   "outputs": [],
   "source": [
    "txt=data_1.get_text()\n",
    "txt=txt.split('\\n')\n",
    "txt=txt[1:-1]"
   ]
  },
  {
   "cell_type": "code",
   "execution_count": 9,
   "metadata": {},
   "outputs": [
    {
     "data": {
      "text/plain": [
       "['', 'Geno\\r', '', 'Mag', '', 'Summary\\r', '']"
      ]
     },
     "execution_count": 9,
     "metadata": {},
     "output_type": "execute_result"
    }
   ],
   "source": [
    "column=txt[:7]\n",
    "column"
   ]
  },
  {
   "cell_type": "code",
   "execution_count": 10,
   "metadata": {},
   "outputs": [
    {
     "name": "stdout",
     "output_type": "stream",
     "text": [
      "['', '(A;A)', '', '0\\r', '', 'normal\\r', '', '', '(A;G)', '', '2.5\\r', '', 'stronger cravings for alcohol. if alcoholic, naltrexone treatment 2x more successful\\r', '', '', '(G;G)', '', '2.6\\r', '', 'more pain\\r', '']\n"
     ]
    }
   ],
   "source": [
    "datas=txt[7:]\n",
    "print(datas)"
   ]
  },
  {
   "cell_type": "code",
   "execution_count": null,
   "metadata": {},
   "outputs": [],
   "source": []
  },
  {
   "cell_type": "markdown",
   "metadata": {},
   "source": [
    "## import pandas as pd\n",
    "import numpy as np\n",
    "from collections import OrderedDict\n",
    "df=pd.DataFrame(np.array(datas).reshape(-1,7),columns=column)\n",
    "df=df.drop(columns='',axis=1)\n",
    "print(df)\n",
    "dic = df.to_dict('records', into=OrderedDict)\n",
    "print(dic)"
   ]
  },
  {
   "cell_type": "code",
   "execution_count": 11,
   "metadata": {},
   "outputs": [],
   "source": [
    "from itertools import zip_longest\n",
    "zzz=list(zip_longest(*(iter(datas),)*7))"
   ]
  },
  {
   "cell_type": "code",
   "execution_count": 12,
   "metadata": {},
   "outputs": [
    {
     "data": {
      "text/plain": [
       "[('', '(A;A)', '', '0\\r', '', 'normal\\r', ''),\n",
       " ('',\n",
       "  '(A;G)',\n",
       "  '',\n",
       "  '2.5\\r',\n",
       "  '',\n",
       "  'stronger cravings for alcohol. if alcoholic, naltrexone treatment 2x more successful\\r',\n",
       "  ''),\n",
       " ('', '(G;G)', '', '2.6\\r', '', 'more pain\\r', '')]"
      ]
     },
     "execution_count": 12,
     "metadata": {},
     "output_type": "execute_result"
    }
   ],
   "source": [
    "zzz"
   ]
  },
  {
   "cell_type": "code",
   "execution_count": null,
   "metadata": {},
   "outputs": [],
   "source": []
  },
  {
   "cell_type": "code",
   "execution_count": 13,
   "metadata": {},
   "outputs": [],
   "source": [
    "tmp=[]\n",
    "for i in range(len(zzz)):\n",
    "    tmp.append(OrderedDict((k,v) for k, v in zip(column,zzz[i])))"
   ]
  },
  {
   "cell_type": "code",
   "execution_count": 14,
   "metadata": {},
   "outputs": [
    {
     "data": {
      "text/plain": [
       "OrderedDict([('', ''),\n",
       "             ('Geno\\r', '(A;A)'),\n",
       "             ('Mag', '0\\r'),\n",
       "             ('Summary\\r', 'normal\\r')])"
      ]
     },
     "execution_count": 14,
     "metadata": {},
     "output_type": "execute_result"
    }
   ],
   "source": [
    "tmp[0]"
   ]
  },
  {
   "cell_type": "markdown",
   "metadata": {},
   "source": [
    "### [OrderedDict([('Geno', '(C;C)'), ('Mag', '1.1'), ('Summary', 'more likely to gain weight if taking olanzapine')]),\n",
    "### OrderedDict([('Geno', '(C;T)'), ('Mag', '1.1'), ('Summary', 'more likely to gain weight if taking olanzapine')]),\n",
    "### OrderedDict([('Geno', '(T;T)'), ('Mag', ''), ('Summary', 'normal')])]"
   ]
  },
  {
   "cell_type": "markdown",
   "metadata": {},
   "source": [
    "## -------------------------------- table done"
   ]
  },
  {
   "cell_type": "code",
   "execution_count": 19,
   "metadata": {},
   "outputs": [
    {
     "name": "stdout",
     "output_type": "stream",
     "text": [
      "OPRM1\n"
     ]
    }
   ],
   "source": [
    "data_2=soup.find(class_='getdata2')\n",
    "print(data_2.findNext('td').a['title'])"
   ]
  },
  {
   "cell_type": "markdown",
   "metadata": {},
   "source": [
    "## ------------------------------ genename done"
   ]
  },
  {
   "cell_type": "code",
   "execution_count": 18,
   "metadata": {},
   "outputs": [],
   "source": [
    "p=soup.find_all(\"p\")[1:6]"
   ]
  },
  {
   "cell_type": "code",
   "execution_count": 19,
   "metadata": {},
   "outputs": [
    {
     "data": {
      "text/plain": [
       "' This page represents an arbitrary SNP. The main text body of a SNP page summarizes the associations between SNP variants and a range of human traits (body height, disease risk, response to drugs, even behavior). The science that supports these associations (peer-reviewed publications with citations) is indicated by links to PubMed abstracts in the form of {{PMID|12345678}} or [PMID 12345678] style citations.\\n'"
      ]
     },
     "execution_count": 19,
     "metadata": {},
     "output_type": "execute_result"
    }
   ],
   "source": [
    "p[0].get_text()"
   ]
  },
  {
   "cell_type": "code",
   "execution_count": 20,
   "metadata": {},
   "outputs": [
    {
     "data": {
      "text/plain": [
       "[<p> This page represents an arbitrary <a class=\"mw-redirect\" href=\"/index.php/SNP\" title=\"SNP\">SNP</a>. The main text body of a SNP page summarizes the associations between SNP variants and a range of human traits (body height, disease risk, response to drugs, even behavior). The science that supports these associations (peer-reviewed publications with citations) is indicated by links to <a class=\"external text\" href=\"http://www.ncbi.nlm.nih.gov/pubmed/\" rel=\"nofollow\">PubMed</a> abstracts in the form of {{PMID|12345678}} or [<a class=\"external mw-magiclink-pmid\" href=\"//www.ncbi.nlm.nih.gov/pubmed/12345678?dopt=Abstract\" rel=\"nofollow\">PMID 12345678</a>] style citations.\n",
       " </p>,\n",
       " <p>Technically, there was once a valid rs1234, but it has long since been merged into a different identifier, due to the natural changes of that system. \n",
       " </p>,\n",
       " <p>For this reason, on SNPedia, we will use this SNP to explain how to use many key SNPedia features.\n",
       " </p>,\n",
       " <p>To the upper right you will see a box with these fields:\n",
       " </p>,\n",
       " <p>The colored box indicates the frequency of each genotype in 4 <a href=\"/index.php/HapMap\" title=\"HapMap\">HapMap</a> populations. CEU is European so the box indicates that 10% of Europeans are (A;A) colored brown, 60% are (A;C) colored green, and 30% are (C;C) colored blue. The Chinese (CHB) and Japanese (JPT) are mainly (C;C).  Click on the question mark for <a href=\"/index.php/Help_(population_diversity)\" title=\"Help (population diversity)\">more information</a>.\n",
       " </p>]"
      ]
     },
     "execution_count": 20,
     "metadata": {},
     "output_type": "execute_result"
    }
   ],
   "source": [
    "p"
   ]
  },
  {
   "cell_type": "code",
   "execution_count": 21,
   "metadata": {},
   "outputs": [],
   "source": [
    "desc=[]\n",
    "for ele in p:\n",
    "    desc.append(ele.get_text())\n",
    "    "
   ]
  },
  {
   "cell_type": "code",
   "execution_count": 22,
   "metadata": {
    "scrolled": true
   },
   "outputs": [
    {
     "name": "stdout",
     "output_type": "stream",
     "text": [
      "[' This page represents an arbitrary SNP. The main text body of a SNP page summarizes the associations between SNP variants and a range of human traits (body height, disease risk, response to drugs, even behavior). The science that supports these associations (peer-reviewed publications with citations) is indicated by links to PubMed abstracts in the form of {{PMID|12345678}} or [PMID 12345678] style citations.\\n', 'Technically, there was once a valid rs1234, but it has long since been merged into a different identifier, due to the natural changes of that system. \\n', 'For this reason, on SNPedia, we will use this SNP to explain how to use many key SNPedia features.\\n', 'To the upper right you will see a box with these fields:\\n', 'The colored box indicates the frequency of each genotype in 4 HapMap populations. CEU is European so the box indicates that 10% of Europeans are (A;A) colored brown, 60% are (A;C) colored green, and 30% are (C;C) colored blue. The Chinese (CHB) and Japanese (JPT) are mainly (C;C).  Click on the question mark for more information.\\n']\n"
     ]
    }
   ],
   "source": [
    "print(desc)"
   ]
  },
  {
   "cell_type": "markdown",
   "metadata": {},
   "source": [
    "## test area"
   ]
  }
 ],
 "metadata": {
  "kernelspec": {
   "display_name": "Python 3",
   "language": "python",
   "name": "python3"
  },
  "language_info": {
   "codemirror_mode": {
    "name": "ipython",
    "version": 3
   },
   "file_extension": ".py",
   "mimetype": "text/x-python",
   "name": "python",
   "nbconvert_exporter": "python",
   "pygments_lexer": "ipython3",
   "version": "3.7.0"
  }
 },
 "nbformat": 4,
 "nbformat_minor": 2
}
